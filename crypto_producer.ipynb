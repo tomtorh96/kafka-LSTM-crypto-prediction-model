{
 "cells": [
  {
   "cell_type": "code",
   "execution_count": null,
   "id": "71d81423",
   "metadata": {},
   "outputs": [],
   "source": [
    "import json\n",
    "import requests\n",
    "import pandas as pd\n",
    "from io import StringIO\n",
    "from confluent_kafka import Producer"
   ]
  },
  {
   "cell_type": "code",
   "execution_count": null,
   "id": "swPi19sn4Vij",
   "metadata": {
    "id": "swPi19sn4Vij"
   },
   "outputs": [],
   "source": [
    "#fetchs the crypto data from crypto compare with API request\n",
    "def fetch_crypto_data(api_key, fsym, tsym, limit):\n",
    "    \"\"\"\n",
    "    Fetches historical hourly data for a specific cryptocurrency pair over a defined limit of hours.\n",
    "    \"\"\"\n",
    "    url = 'https://min-api.cryptocompare.com/data/v2/histohour'\n",
    "    parameters = {\n",
    "        'fsym': fsym,\n",
    "        'tsym': tsym,\n",
    "        'limit': limit,\n",
    "        'api_key': api_key\n",
    "    }\n",
    "    response = requests.get(url, params=parameters)\n",
    "    print(response)\n",
    "    data = response.json()['Data']['Data']\n",
    "    df = pd.DataFrame(data)\n",
    "    df['time'] = pd.to_datetime(df['time'], unit='s')\n",
    "    df['coin'] = fsym  # Add a column with the cryptocurrency symbol\n",
    "   \n",
    "    return df"
   ]
  },
  {
   "cell_type": "code",
   "execution_count": 31,
   "id": "hQroXQZXkcU3",
   "metadata": {
    "id": "hQroXQZXkcU3"
   },
   "outputs": [],
   "source": [
    "# Funaction for mentain a data files of the crypto\n",
    "def manage_data_file(coin, api_key):\n",
    "    filename = f\"{coin}_hourly_data.csv\"\n",
    "    base_currency = 'USD'\n",
    "\n",
    "    # Fatch missing data for crypto\n",
    "    if not os.path.exists(filename):\n",
    "        end_date = datetime.datetime.now()\n",
    "        limit = 2000\n",
    "\n",
    "        print(f\"Fatech new data for {coin}\")\n",
    "\n",
    "        df = fetch_crypto_data(api_key, coin, base_currency, limit)\n",
    "        df.to_csv(filename, index=False)\n",
    "\n",
    "    # In case the file is already exists, fatch the missing data\n",
    "    else:\n",
    "        existing_df = pd.read_csv(filename)\n",
    "        existing_df['time'] = pd.to_datetime(existing_df['time'])\n",
    "\n",
    "        last_date = existing_df['time'].max()\n",
    "        end_date = datetime.datetime.now()\n",
    "\n",
    "        if last_date > end_date:\n",
    "            print(f\"Data is updated for {coin}\")\n",
    "            return existing_df\n",
    "\n",
    "        print(f\" Fatch data of {coin} form {last_date} to {end_date}\")\n",
    "        limit = (end_date - last_date)\n",
    "        limit = limit.total_seconds()//3600\n",
    "        print(limit)\n",
    "        df = fetch_crypto_data(api_key, coin, base_currency, limit)\n",
    "\n",
    "        # concatinate new data with the exist one.\n",
    "        full_df = pd.concat([existing_df, df]).drop_duplicates(subset=['time'])\n",
    "        full_df.to_csv(filename, index=False)\n",
    "\n",
    "    return pd.read_csv(filename)\n"
   ]
  },
  {
   "cell_type": "code",
   "execution_count": null,
   "id": "ae47b7ef",
   "metadata": {
    "id": "ae47b7ef"
   },
   "outputs": [],
   "source": [
    "#first preprocessing the data\n",
    "def preprocess_data(df):\n",
    "    # Drop unnecessary columns\n",
    "    df.drop([\"conversionType\", \"conversionSymbol\",\"coin\"], axis = 'columns', inplace = True)\n",
    "\n",
    "    # Dealing with time columns\n",
    "    df['time'] = pd.to_datetime(df['time'], errors='coerce')\n",
    "    df = df.set_index('time')\n",
    "\n",
    "    return df"
   ]
  },
  {
   "cell_type": "code",
   "execution_count": null,
   "id": "TKXlbNUFEnBK",
   "metadata": {
    "id": "TKXlbNUFEnBK"
   },
   "outputs": [],
   "source": [
    "#sending the data to the consumer\n",
    "def send_data(coin_name, data):\n",
    "\n",
    "    producer.produce('crypto_topic',key = coin_name, value=data)\n",
    "    producer.flush()\n",
    "    print(f\"Successfully sent data for {coin_name}\")\n"
   ]
  },
  {
   "cell_type": "code",
   "execution_count": null,
   "id": "s3S1S7L-7lbm",
   "metadata": {
    "colab": {
     "base_uri": "https://localhost:8080/",
     "height": 345
    },
    "id": "s3S1S7L-7lbm",
    "outputId": "6ec29b63-c4ed-48a8-fa57-d31478b352af"
   },
   "outputs": [],
   "source": [
    "#User Interface\n",
    "producer = Producer({'bootstrap.servers': 'localhost:9092'})\n",
    "\n",
    "topic = 'bt'\n",
    "batch_size = 200\n",
    "API_KEY = 'ecb769259e45868df9bd2de303bea33c7259f00239195768c20899e88a05e2d3'\n",
    "limit = 168  #Fetch previous data for one week before\n",
    "base_currency = 'USD'  # Convert to USD\n",
    "\n",
    "while True:\n",
    "    coin = input(\"Enter the coin symbol you like to invest in:\\n to exit just hit enter \")\n",
    "    if coin is None or coin == \"\":\n",
    "        producer.produce(\"exit\", value=\"exit\")\n",
    "        producer.flush()\n",
    "        print(\"Exiting the program.\")\n",
    "        break\n",
    "    try:\n",
    "        df = manage_data_file(coin, API_KEY)\n",
    "    except Exception as e:\n",
    "        print(f\"Error fetching data for {coin}: {e}\")\n",
    "        continue\n",
    "    df = preprocess_data(df)\n",
    "    csv_buffer = StringIO()\n",
    "    df.to_csv(csv_buffer, index=False)\n",
    "    csv_data = csv_buffer.getvalue()\n",
    "    # raw_data = fetch_crypto_data(API_KEY, coin, base_currency, limit)\n",
    "    send_data(coin, csv_data)\n",
    "\n",
    "producer.produce(\"crypto_topic\", key=\"exit\", value=\"\")"
   ]
  }
 ],
 "metadata": {
  "colab": {
   "provenance": []
  },
  "kernelspec": {
   "display_name": "Python 3 (ipykernel)",
   "language": "python",
   "name": "python3"
  },
  "language_info": {
   "codemirror_mode": {
    "name": "ipython",
    "version": 3
   },
   "file_extension": ".py",
   "mimetype": "text/x-python",
   "name": "python",
   "nbconvert_exporter": "python",
   "pygments_lexer": "ipython3",
   "version": "3.10.12"
  }
 },
 "nbformat": 4,
 "nbformat_minor": 5
}
